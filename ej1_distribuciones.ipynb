{
 "cells": [
  {
   "cell_type": "markdown",
   "metadata": {},
   "source": [
    "Ejercicio 1: Análisis estadístico de las distribuciones de aterrizaje y desembarque"
   ]
  },
  {
   "cell_type": "code",
   "execution_count": 81,
   "metadata": {},
   "outputs": [],
   "source": [
    "import numpy as np\n",
    "import pandas as pd\n",
    "import matplotlib.pyplot as plt\n",
    "import seaborn as sns\n",
    "from scipy import stats\n",
    "\n",
    "# 1. Cargar los datos\n",
    "datos = np.loadtxt('E7.aterrizajes.txt')"
   ]
  },
  {
   "cell_type": "code",
   "execution_count": 82,
   "metadata": {},
   "outputs": [
    {
     "data": {
      "image/png": "[encoded data removed]",
      "text/plain": [
       "<Figure size 720x432 with 1 Axes>"
      ]
     },
     "metadata": {
      "needs_background": "light"
     },
     "output_type": "display_data"
    }
   ],
   "source": [
    "# 2. Visualizar los datos con un histograma\n",
    "plt.figure(figsize=(10, 6))\n",
    "sns.histplot(datos)\n",
    "plt.title('Histograma de los tiempos de aterrizaje')\n",
    "plt.xlabel('Tiempo')\n",
    "plt.ylabel('Frecuencia')\n",
    "plt.show()"
   ]
  },
  {
   "cell_type": "code",
   "execution_count": 83,
   "metadata": {},
   "outputs": [
    {
     "name": "stdout",
     "output_type": "stream",
     "text": [
      "Prueba KS para normalidad: p-value = 0.6541243104469792\n",
      "Prueba KS para uniforme: p-value = 1.277189611216561e-208\n",
      "Prueba KS para exponencial: p-value = 0.0\n",
      "Los datos siguen una distribución normal\n",
      "Media (mu) = 10.007615178514001, Desviación estándar (sigma) = 3.0377002745229005\n"
     ]
    }
   ],
   "source": [
    "# 3. Pruebas estadísticas\n",
    "\n",
    "# Prueba de bondad de ajuste de Kolmogorov-Smirnov \n",
    "# Compara los datos con una distribución teórica (normal, uniforme o exponencial). De nuevo, si el p-valor es mayor que 0.05, no se rechaza la hipótesis de que los datos siguen esa distribución.\n",
    "\n",
    "# Prueba de bondad de ajuste para una distribución normal\n",
    "mu, std = np.mean(datos), np.std(datos, ddof=1)\n",
    "stat_normal, p_ks_normal = stats.kstest(datos, 'norm', args=(mu, std))\n",
    "print(f\"Prueba KS para normalidad: p-value = {p_ks_normal}\")\n",
    "\n",
    "# Prueba de bondad de ajuste para una distribución uniforme\n",
    "min_val, max_val = np.min(datos), np.max(datos)\n",
    "stat_uniforme, p_ks_uniforme = stats.kstest(datos, 'uniform', args=(min_val, max_val - min_val))\n",
    "print(f\"Prueba KS para uniforme: p-value = {p_ks_uniforme}\")\n",
    "\n",
    "# Prueba de bondad de ajuste para una distribución exponencial\n",
    "loc, scale = stats.expon.fit(datos)\n",
    "stat_exponencial, p_ks_exponencial = stats.kstest(datos, 'expon', args=(loc, scale))\n",
    "print(f\"Prueba KS para exponencial: p-value = {p_ks_exponencial}\")\n",
    "\n",
    "# 4. Evaluar los resultados\n",
    "if p_ks_normal > 0.05:\n",
    "    print(\"Los datos siguen una distribución normal\")\n",
    "    print(f\"Media (mu) = {mu}, Desviación estándar (sigma) = {std}\")\n",
    "\n",
    "elif p_ks_uniforme > 0.05:\n",
    "    print(\"Los datos siguen una distribución uniforme\")\n",
    "elif p_ks_exponencial > 0.05:\n",
    "    print(\"Los datos siguen una distribución exponencial\")\n",
    "else:\n",
    "    print(\"Los datos no parecen seguir ninguna de estas distribuciones\")"
   ]
  },
  {
   "cell_type": "code",
   "execution_count": 84,
   "metadata": {},
   "outputs": [],
   "source": [
    "import numpy as np\n",
    "import pandas as pd\n",
    "import matplotlib.pyplot as plt\n",
    "import seaborn as sns\n",
    "from scipy import stats\n",
    "from scipy.stats import truncnorm, weibull_min, expon\n",
    "\n",
    "# 1. Cargar los datos\n",
    "datos = np.loadtxt('E7.desembarques.txt')"
   ]
  },
  {
   "cell_type": "code",
   "execution_count": 85,
   "metadata": {},
   "outputs": [
    {
     "data": {
      "image/png": "[encoded data removed]",
      "text/plain": [
       "<Figure size 720x432 with 1 Axes>"
      ]
     },
     "metadata": {
      "needs_background": "light"
     },
     "output_type": "display_data"
    }
   ],
   "source": [
    "# 2. Visualizar los datos con un histograma\n",
    "plt.figure(figsize=(10, 6))\n",
    "sns.histplot(datos)\n",
    "plt.title('Histograma de los tiempos de aterrizaje')\n",
    "plt.xlabel('Tiempo')\n",
    "plt.ylabel('Frecuencia')\n",
    "plt.show()"
   ]
  },
  {
   "cell_type": "code",
   "execution_count": 86,
   "metadata": {},
   "outputs": [
    {
     "name": "stdout",
     "output_type": "stream",
     "text": [
      "Prueba KS para normalidad: p-value = 7.256343316187629e-112\n",
      "Prueba KS para Weibull: p-value = 0.11386449455782077\n",
      "Parámetro shape de Weibull: 0.9743262022974264\n",
      "La distribución Weibull tiene un shape cercano a 1, lo que sugiere una exponencial.\n",
      "Prueba KS para exponencial: p-value = 0.739725165931107\n",
      "Parámetro loc de la exponencial: 0.006979736\n",
      "\n",
      "Los datos siguen una distribución exponencial\n",
      "Parámetro de tasa (lambda) = 0.10044207713520997 (es el inverso de la media), Parámetro de escala (theta) = 45.894205510651204\n"
     ]
    }
   ],
   "source": [
    "import numpy as np\n",
    "from scipy import stats\n",
    "\n",
    "# Prueba de bondad de ajuste de Kolmogorov-Smirnov \n",
    "# Compara los datos con una distribución teórica (normal, uniforme o exponencial). De nuevo, si el p-valor es mayor que 0.05, no se rechaza la hipótesis de que los datos siguen esa distribución.\n",
    "\n",
    "# a) Prueba de bondad de ajuste para una distribución normal\n",
    "mu, std = np.mean(datos), np.std(datos)\n",
    "stat_normal, p_ks_normal = stats.kstest(datos, 'norm', args=(mu, std))\n",
    "print(f\"Prueba KS para normalidad: p-value = {p_ks_normal}\")\n",
    "\n",
    "# b) Prueba de bondad de ajuste para una distribución Weibull\n",
    "shape_weibull, loc_weibull, scale_weibull = stats.weibull_min.fit(datos)\n",
    "stat_weibull, p_ks_weibull = stats.kstest(datos, 'weibull_min', args=(shape_weibull, loc_weibull, scale_weibull))\n",
    "print(f\"Prueba KS para Weibull: p-value = {p_ks_weibull}\")\n",
    "print(f\"Parámetro shape de Weibull: {shape_weibull}\")\n",
    "\n",
    "# Si el parámetro shape de Weibull es cercano a 1, sugiere que los datos podrían seguir una exponencial.\n",
    "if np.isclose(shape_weibull, 1, atol=0.05):\n",
    "    print(\"La distribución Weibull tiene un shape cercano a 1, lo que sugiere una exponencial.\")\n",
    "\n",
    "# c) Prueba de bondad de ajuste para una distribución exponencial\n",
    "loc_expon, scale_expon = stats.expon.fit(datos)\n",
    "lambda_exp = 1 / scale\n",
    "# lambda_exp = 1/(np.mean)\n",
    "stat_exponencial, p_ks_exponencial = stats.kstest(datos, 'expon', args=(loc_expon, scale_expon))\n",
    "print(f\"Prueba KS para exponencial: p-value = {p_ks_exponencial}\")\n",
    "print(f\"Parámetro loc de la exponencial: {loc_expon}\")\n",
    "print()\n",
    "# 3. Evaluar los resultados\n",
    "if p_ks_normal > 0.05:\n",
    "    print(\"Los datos siguen una distribución normal\")\n",
    "elif p_ks_exponencial > 0.05:\n",
    "    print(\"Los datos siguen una distribución exponencial\")\n",
    "    print(f\"Parámetro de tasa (lambda) = {lambda_exp} (es el inverso de la media), Parámetro de escala (theta) = {scale_expon}\")\n",
    "elif p_ks_weibull > 0.05:\n",
    "    print(\"Los datos siguen una distribución Weibull\")\n",
    "else:\n",
    "    print(\"Los datos no parecen seguir ninguna de estas distribuciones\")\n"
   ]
  },
  {
   "cell_type": "code",
   "execution_count": 87,
   "metadata": {},
   "outputs": [
    {
     "data": {
      "image/png": "[encoded data removed]",
      "text/plain": [
       "<Figure size 432x288 with 1 Axes>"
      ]
     },
     "metadata": {
      "needs_background": "light"
     },
     "output_type": "display_data"
    }
   ],
   "source": [
    "import numpy as np\n",
    "import scipy.stats as stats\n",
    "import matplotlib.pyplot as plt\n",
    "\n",
    "# Comparación entre Weibull y exponencial\n",
    "\n",
    "# 5. Graficar los histogramas y las distribuciones ajustadas\n",
    "x = np.linspace(min(datos), max(datos), 100)\n",
    "\n",
    "# Distribución Weibull ajustada\n",
    "weibull_pdf = stats.weibull_min.pdf(x, shape_weibull, loc_weibull, scale_weibull)\n",
    "plt.plot(x, weibull_pdf, 'r-', label='Weibull fit')\n",
    "\n",
    "# Distribución Exponencial ajustada\n",
    "exp_pdf = stats.expon.pdf(x, loc_expon, scale_expon)\n",
    "plt.plot(x, exp_pdf, 'b--', label='Exponential fit')\n",
    "\n",
    "# Graficar el histograma de los datos originales\n",
    "plt.hist(datos, bins=30, density=True, alpha=0.6, color='g', label='Datos')\n",
    "\n",
    "plt.title(\"Comparación de ajustes Weibull y Exponencial\")\n",
    "plt.legend()\n",
    "plt.show()\n"
   ]
  }
 ],
 "metadata": {
  "kernelspec": {
   "display_name": "Python 3",
   "language": "python",
   "name": "python3"
  },
  "language_info": {
   "codemirror_mode": {
    "name": "ipython",
    "version": 3
   },
   "file_extension": ".py",
   "mimetype": "text/x-python",
   "name": "python",
   "nbconvert_exporter": "python",
   "pygments_lexer": "ipython3",
   "version": "3.8.12"
  }
 },
 "nbformat": 4,
 "nbformat_minor": 2
}
