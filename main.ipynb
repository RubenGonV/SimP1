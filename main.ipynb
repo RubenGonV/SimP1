{"cells":[{"cell_type":"markdown","metadata":{},"source":["# Main file for the project\n","\n"]}],"metadata":{"language_info":{"name":"python"}},"nbformat":4,"nbformat_minor":2}
