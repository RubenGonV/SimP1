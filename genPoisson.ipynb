{
 "cells": [
  {
   "cell_type": "code",
   "execution_count": 53,
   "metadata": {},
   "outputs": [],
   "source": [
    "import random \n",
    "import numpy as np\n",
    "import time\n",
    "\n",
    "# Ejemplo del enunciado\n",
    "T = 30*24*60 # 24h en minutos\n",
    "# T = 100 #un mes en minutos #pongo 1 dia\n",
    "\n",
    "nPistas = 3\n",
    "nCoches = 20\n",
    "nPuertas = 50\n",
    "\n",
    "# lambda0 = getlambda0(t)\n",
    "mu11 = 10.007615178514001\n",
    "sigma11 = 3.0377002745229005\n",
    "a12 = 10\n",
    "b12 = 15\n",
    "lambda2 = 1/2 # tiempo de traslado exponencial de tasa 30 aviones por hora = 2 minutos por avion\n",
    "lambda3 = 0.10044207713520997\n",
    "\n",
    "# T, nCoches, nPuertas, mu11, sigma11, a12, b12, lambda2, lambda3"
   ]
  },
  {
   "cell_type": "code",
   "execution_count": 54,
   "metadata": {},
   "outputs": [],
   "source": [
    "def getlambda0(t):\n",
    "    # t está en minutos, convertir a horas:\n",
    "    t = t/60\n",
    "    t = t%24 ##########ojo esto##########\n",
    "    # Intervalo de 0 a 5 horas, lineal de 5 a 7\n",
    "    if 0 <= t < 5:\n",
    "        return 5 + (7 - 5) * (t - 0) / (5 - 0)\n",
    "    # Intervalo de 5 a 8 horas, lineal de 7 a 6\n",
    "    elif 5 <= t < 8:\n",
    "        return 7 + (6 - 7) * (t - 5) / (8 - 5)\n",
    "    # Intervalo de 8 a 15 horas, lineal de 6 a 9\n",
    "    elif 8 <= t < 15:\n",
    "        return 6 + (9 - 6) * (t - 8) / (15 - 8)\n",
    "    # Intervalo de 15 a 17 horas, lineal de 9 a 6\n",
    "    elif 15 <= t < 17:\n",
    "        return 9 + (6 - 9) * (t - 15) / (17 - 15)\n",
    "    # Intervalo de 17 a 24 horas, lineal de 6 a 5\n",
    "    elif 14 <= t <= 24:\n",
    "        return 6 + (5 - 6) * (t - 17) / (24 - 17)\n",
    "    # Si el tiempo está fuera del rango de 0 a 24 horas\n",
    "    else:\n",
    "        return 10E9  "
   ]
  },
  {
   "cell_type": "code",
   "execution_count": 55,
   "metadata": {},
   "outputs": [],
   "source": [
    "# Funciones auxiliares generacion de tiempos\n",
    "def t_llegada(t):\n",
    "    return random.expovariate(getlambda0(t)/60) #nº muy pequeños, tiene sentido?"
   ]
  },
  {
   "cell_type": "code",
   "execution_count": 56,
   "metadata": {},
   "outputs": [
    {
     "name": "stdout",
     "output_type": "stream",
     "text": [
      "Tiempo de ejecución: 0.0009970664978027344 segundos\n"
     ]
    }
   ],
   "source": [
    "# Medir el tiempo de ejecución de un método\n",
    "start_time = time.time()\n",
    "# Aquí llamas al método de generación de muestras, por ejemplo:\n",
    "samples = [t_llegada(t) for t in range(1000)]\n",
    "end_time = time.time()\n",
    "\n",
    "print(f\"Tiempo de ejecución: {end_time - start_time} segundos\")\n"
   ]
  },
  {
   "cell_type": "code",
   "execution_count": null,
   "metadata": {},
   "outputs": [],
   "source": [
    "import random\n",
    "\n",
    "def generar_poisson_no_homogeneo(tiempo_total, tasa_maxima):\n",
    "    t = 0\n",
    "    tiempos = []\n",
    "\n",
    "    while t < tiempo_total:\n",
    "        # Generar un tiempo de llegada usando un proceso de Poisson homogéneo con tasa máxima\n",
    "        t += random.expovariate(tasa_maxima)\n",
    "        if t < tiempo_total:\n",
    "            # Aceptar o rechazar el evento con probabilidad proporcional a la tasa real\n",
    "            if random.uniform(0, 1) < getlambda0(t) / tasa_maxima:\n",
    "                tiempos.append(t)\n",
    "\n",
    "    return tiempos\n",
    "\n",
    "# Parámetros\n",
    "tiempo_total = 24 * 60  # 24 horas en minutos\n",
    "tasa_maxima = 9  # La tasa máxima de llegada\n",
    "start_time = time.time()\n",
    "# Generar muestras\n",
    "muestras = generar_poisson_no_homogeneo(tiempo_total, tasa_maxima)\n",
    "end_time = time.time()\n",
    "print(f\"Tiempo de ejecución: {end_time - start_time} segundos\")"
   ]
  }
 ],
 "metadata": {
  "kernelspec": {
   "display_name": "Python 3",
   "language": "python",
   "name": "python3"
  },
  "language_info": {
   "codemirror_mode": {
    "name": "ipython",
    "version": 3
   },
   "file_extension": ".py",
   "mimetype": "text/x-python",
   "name": "python",
   "nbconvert_exporter": "python",
   "pygments_lexer": "ipython3",
   "version": "3.8.10"
  }
 },
 "nbformat": 4,
 "nbformat_minor": 2
}
